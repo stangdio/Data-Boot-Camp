{
 "cells": [
  {
   "cell_type": "markdown",
   "id": "16019ffc",
   "metadata": {},
   "source": [
    "# Preprossing Data for ML Models"
   ]
  },
  {
   "cell_type": "code",
   "execution_count": 1,
   "id": "15431638",
   "metadata": {},
   "outputs": [],
   "source": [
    "import matplotlib.pyplot as plt\n",
    "import pandas as pd\n",
    "\n",
    "from sklearn.compose import ColumnTransformer\n",
    "from sklearn.impute import SimpleImputer\n",
    "from sklearn.metrics import accuracy_score, classification_report, confusion_matrix, f1_score, precision_score, recall_score\n",
    "from sklearn.model_selection import train_test_split\n",
    "from sklearn.pipeline import Pipeline\n",
    "from sklearn.preprocessing import OneHotEncoder\n",
    "\n",
    "import joblib"
   ]
  },
  {
   "cell_type": "code",
   "execution_count": 2,
   "id": "fc0376af",
   "metadata": {},
   "outputs": [],
   "source": [
    "# load data\n",
    "\n",
    "crimes_df = pd.read_csv('Crimes_Dataset.csv')\n",
    "suspects_df = pd.read_csv('Suspects_Dataset.csv')"
   ]
  },
  {
   "cell_type": "code",
   "execution_count": 3,
   "id": "30c8001f",
   "metadata": {},
   "outputs": [],
   "source": [
    "# convert everything to lowercase\n",
    "\n",
    "def lower(df):\n",
    "    df.columns = df.columns.str.lower()\n",
    "    df = df.apply(lambda col:col.str.lower() if col.dtype == 'object' else col)\n",
    "    return df\n",
    "\n",
    "crimes_df = lower(crimes_df)\n",
    "suspects_df = lower(suspects_df)"
   ]
  },
  {
   "cell_type": "code",
   "execution_count": 4,
   "id": "05f2c1ce",
   "metadata": {},
   "outputs": [],
   "source": [
    "# merge Crime_Dataset.csv and Suspects_Dataset.csv using index to match\n",
    "\n",
    "df = pd.merge(crimes_df, suspects_df, left_on = 'index_crimes', right_on = 'importtindex_monster')"
   ]
  },
  {
   "cell_type": "code",
   "execution_count": 5,
   "id": "349a55c6",
   "metadata": {},
   "outputs": [
    {
     "data": {
      "text/html": [
       "<div>\n",
       "<style scoped>\n",
       "    .dataframe tbody tr th:only-of-type {\n",
       "        vertical-align: middle;\n",
       "    }\n",
       "\n",
       "    .dataframe tbody tr th {\n",
       "        vertical-align: top;\n",
       "    }\n",
       "\n",
       "    .dataframe thead th {\n",
       "        text-align: right;\n",
       "    }\n",
       "</style>\n",
       "<table border=\"1\" class=\"dataframe\">\n",
       "  <thead>\n",
       "    <tr style=\"text-align: right;\">\n",
       "      <th></th>\n",
       "      <th>days of investigation</th>\n",
       "      <th>region</th>\n",
       "      <th>crime type</th>\n",
       "      <th>crime weapon</th>\n",
       "      <th>time of day</th>\n",
       "      <th>evidence found</th>\n",
       "      <th>criminal record</th>\n",
       "      <th>age</th>\n",
       "      <th>gender</th>\n",
       "      <th>height in cm</th>\n",
       "      <th>speed level</th>\n",
       "      <th>strength level</th>\n",
       "      <th>allergy</th>\n",
       "      <th>favorite food</th>\n",
       "    </tr>\n",
       "  </thead>\n",
       "  <tbody>\n",
       "    <tr>\n",
       "      <th>0</th>\n",
       "      <td>77.0</td>\n",
       "      <td>mountain</td>\n",
       "      <td>nightly disturbance</td>\n",
       "      <td>NaN</td>\n",
       "      <td>night</td>\n",
       "      <td>bones</td>\n",
       "      <td>yes</td>\n",
       "      <td>1.0</td>\n",
       "      <td>f</td>\n",
       "      <td>152.0</td>\n",
       "      <td>26.0</td>\n",
       "      <td>8.0</td>\n",
       "      <td>silver</td>\n",
       "      <td>lasagna</td>\n",
       "    </tr>\n",
       "    <tr>\n",
       "      <th>1</th>\n",
       "      <td>48.0</td>\n",
       "      <td>forest</td>\n",
       "      <td>assault</td>\n",
       "      <td>pistol</td>\n",
       "      <td>night</td>\n",
       "      <td>teeth</td>\n",
       "      <td>no</td>\n",
       "      <td>53.0</td>\n",
       "      <td>m</td>\n",
       "      <td>171.0</td>\n",
       "      <td>87.0</td>\n",
       "      <td>7.0</td>\n",
       "      <td>silver</td>\n",
       "      <td>pesto pasta</td>\n",
       "    </tr>\n",
       "    <tr>\n",
       "      <th>2</th>\n",
       "      <td>31.0</td>\n",
       "      <td>castle</td>\n",
       "      <td>nightly disturbance</td>\n",
       "      <td>NaN</td>\n",
       "      <td>night</td>\n",
       "      <td>potions</td>\n",
       "      <td>no</td>\n",
       "      <td>1634.0</td>\n",
       "      <td>m</td>\n",
       "      <td>185.0</td>\n",
       "      <td>59.0</td>\n",
       "      <td>2.0</td>\n",
       "      <td>sunlight</td>\n",
       "      <td>humans</td>\n",
       "    </tr>\n",
       "    <tr>\n",
       "      <th>3</th>\n",
       "      <td>29.0</td>\n",
       "      <td>swamp</td>\n",
       "      <td>arson</td>\n",
       "      <td>pistol</td>\n",
       "      <td>dawn</td>\n",
       "      <td>potions</td>\n",
       "      <td>no</td>\n",
       "      <td>322.0</td>\n",
       "      <td>m</td>\n",
       "      <td>169.0</td>\n",
       "      <td>23.0</td>\n",
       "      <td>3.0</td>\n",
       "      <td>pumpkin</td>\n",
       "      <td>lasagna</td>\n",
       "    </tr>\n",
       "    <tr>\n",
       "      <th>4</th>\n",
       "      <td>59.0</td>\n",
       "      <td>village</td>\n",
       "      <td>nightly disturbance</td>\n",
       "      <td>pistol</td>\n",
       "      <td>night</td>\n",
       "      <td>potions</td>\n",
       "      <td>no</td>\n",
       "      <td>757.0</td>\n",
       "      <td>f</td>\n",
       "      <td>170.0</td>\n",
       "      <td>36.0</td>\n",
       "      <td>10.0</td>\n",
       "      <td>garlic</td>\n",
       "      <td>rats</td>\n",
       "    </tr>\n",
       "  </tbody>\n",
       "</table>\n",
       "</div>"
      ],
      "text/plain": [
       "   days of investigation    region           crime type crime weapon  \\\n",
       "0                   77.0  mountain  nightly disturbance          NaN   \n",
       "1                   48.0    forest              assault       pistol   \n",
       "2                   31.0    castle  nightly disturbance          NaN   \n",
       "3                   29.0     swamp                arson       pistol   \n",
       "4                   59.0   village  nightly disturbance       pistol   \n",
       "\n",
       "  time of day evidence found criminal record     age gender  height in cm  \\\n",
       "0       night          bones             yes     1.0      f         152.0   \n",
       "1       night          teeth              no    53.0      m         171.0   \n",
       "2       night        potions              no  1634.0      m         185.0   \n",
       "3        dawn        potions              no   322.0      m         169.0   \n",
       "4       night        potions              no   757.0      f         170.0   \n",
       "\n",
       "   speed level  strength level   allergy favorite food  \n",
       "0         26.0             8.0    silver       lasagna  \n",
       "1         87.0             7.0    silver   pesto pasta  \n",
       "2         59.0             2.0  sunlight        humans  \n",
       "3         23.0             3.0   pumpkin       lasagna  \n",
       "4         36.0            10.0    garlic          rats  "
      ]
     },
     "execution_count": 5,
     "metadata": {},
     "output_type": "execute_result"
    }
   ],
   "source": [
    "# create features data set\n",
    "\n",
    "X = df.drop(columns = ['monster involved','index_crimes','date','monster', 'importtindex_monster'], axis = 1)\n",
    "X.head(5)"
   ]
  },
  {
   "cell_type": "code",
   "execution_count": 6,
   "id": "27d67025",
   "metadata": {},
   "outputs": [],
   "source": [
    "# identify input features\n",
    "\n",
    "categorical_features = X.select_dtypes(include = ['object']).columns\n",
    "numerical_features = X.select_dtypes(include = ['number']).columns"
   ]
  },
  {
   "cell_type": "code",
   "execution_count": 7,
   "id": "5addf29a",
   "metadata": {},
   "outputs": [
    {
     "data": {
      "text/plain": [
       "0    skeleton\n",
       "1    werewolf\n",
       "2       ghost\n",
       "3       witch\n",
       "4       ghost\n",
       "Name: monster, dtype: object"
      ]
     },
     "execution_count": 7,
     "metadata": {},
     "output_type": "execute_result"
    }
   ],
   "source": [
    "# create target data set\n",
    "\n",
    "Y = df['monster']\n",
    "Y.head(5)"
   ]
  },
  {
   "cell_type": "code",
   "execution_count": 8,
   "id": "857c77cb",
   "metadata": {},
   "outputs": [],
   "source": [
    "# handle missing values\n",
    "\n",
    "# fill in missing 'crime weapon' with 'unknown'\n",
    "X['crime weapon'] = X['crime weapon'].fillna('unknown')\n",
    "\n",
    "# impute missing numerical data\n",
    "numerical_transformer = SimpleImputer(strategy='mean')\n",
    "\n",
    "# impute missing categorical data & one-hot encode\n",
    "categorical_transformer = Pipeline(steps = [\n",
    "    ('imputer', SimpleImputer(strategy = 'most_frequent')),\n",
    "    ('encoder', OneHotEncoder(handle_unknown = 'ignore'))\n",
    "])"
   ]
  },
  {
   "cell_type": "code",
   "execution_count": 9,
   "id": "dc38df6a",
   "metadata": {},
   "outputs": [],
   "source": [
    "# combine numerical & categorical data\n",
    "\n",
    "preprocessor = ColumnTransformer(\n",
    "    transformers = [\n",
    "        ('numerical', numerical_transformer, numerical_features),\n",
    "        ('categorical', categorical_transformer, categorical_features)\n",
    "    ]\n",
    ")"
   ]
  },
  {
   "cell_type": "code",
   "execution_count": 10,
   "id": "b29796ed",
   "metadata": {},
   "outputs": [],
   "source": [
    "# split train & test data set\n",
    "\n",
    "X_train, X_test, Y_train, Y_test = train_test_split(X, Y, test_size = 0.2, random_state = 42)"
   ]
  },
  {
   "cell_type": "code",
   "execution_count": 11,
   "id": "a7363047",
   "metadata": {},
   "outputs": [],
   "source": [
    "# create a dictionary for preprocessor, X, Y\n",
    "\n",
    "data_and_preprocessor_for_ml = {\n",
    "    'preprocessor': preprocessor,\n",
    "    'X': X,\n",
    "    'X_train': X_train,\n",
    "    'X_test': X_test,\n",
    "    'Y': Y,\n",
    "    'Y_train': Y_train,\n",
    "    'Y_test': Y_test\n",
    "}"
   ]
  },
  {
   "cell_type": "code",
   "execution_count": 12,
   "id": "003e8dab",
   "metadata": {},
   "outputs": [
    {
     "data": {
      "text/plain": [
       "['data_and_preprocessor_for_ml.joblib']"
      ]
     },
     "execution_count": 12,
     "metadata": {},
     "output_type": "execute_result"
    }
   ],
   "source": [
    "# save preprocessor as pickle file for machine learning models\n",
    "\n",
    "joblib.dump(data_and_preprocessor_for_ml, 'data_and_preprocessor_for_ml.joblib')"
   ]
  }
 ],
 "metadata": {
  "kernelspec": {
   "display_name": ".venv",
   "language": "python",
   "name": "python3"
  },
  "language_info": {
   "codemirror_mode": {
    "name": "ipython",
    "version": 3
   },
   "file_extension": ".py",
   "mimetype": "text/x-python",
   "name": "python",
   "nbconvert_exporter": "python",
   "pygments_lexer": "ipython3",
   "version": "3.12.6"
  }
 },
 "nbformat": 4,
 "nbformat_minor": 5
}
