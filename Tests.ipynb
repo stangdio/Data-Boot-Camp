{
 "cells": [
  {
   "cell_type": "code",
   "execution_count": null,
   "id": "8b293a47",
   "metadata": {},
   "outputs": [],
   "source": [
    "import pandas as pd\n",
    "\n",
    "df = pd.read_csv(\"Crimes_Dataset.csv\")\n",
    "print(df.describe())\n"
   ]
  }
 ],
 "metadata": {
  "kernelspec": {
   "display_name": "Data_Boothcamp",
   "language": "python",
   "name": "python3"
  },
  "language_info": {
   "name": "python",
   "version": "3.13.5"
  }
 },
 "nbformat": 4,
 "nbformat_minor": 5
}
