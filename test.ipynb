import pandas as pd

df = pd.read_csv("Crimes_Dataset.csv")
df_knife_crimes = df[df['Crime Weapon'] == 'knife']
