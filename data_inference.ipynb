{
 "cells": [
  {
   "cell_type": "code",
   "execution_count": null,
   "id": "3c663d97",
   "metadata": {},
   "outputs": [],
   "source": [
    "# Import libraries\n",
    "import joblib\n",
    "import pandas as pd"
   ]
  },
  {
   "cell_type": "code",
   "execution_count": 38,
   "id": "9d5b3cf2",
   "metadata": {},
   "outputs": [],
   "source": [
    "# Load the models & tool\n",
    "random_forest_model = joblib.load('trained_random_forest_model.pkl')\n",
    "gradient_booster_model = joblib.load('trained_gradient_booster_model.pkl')\n"
   ]
  },
  {
   "cell_type": "code",
   "execution_count": 39,
   "id": "f5d95b83",
   "metadata": {},
   "outputs": [],
   "source": [
    "# Create a dictionary for the input features based on the story\n",
    "story_input = {\n",
    "    'region': ['village'],\n",
    "    'time of day': ['day'],\n",
    "    'speed level': [None],\n",
    "    'date': '2025-10-30',\n",
    "    'crime type': ['kidnapping'],\n",
    "    'height in cm': [None],\n",
    "    'gender': [None],\n",
    "    'crime weapon': ['knive'],\n",
    "    'allergy': [None],\n",
    "    'strength level': [None],\n",
    "    'criminal record': [None], \n",
    "    'days of investigation': [None],\n",
    "    'age': [None], \n",
    "    'favorite food': [None],\n",
    "    'evidence found': ['bones']\n",
    "}\n",
    "\n",
    "# Convert the dictionary into a DataFrame\n",
    "story_df = pd.DataFrame(story_input)"
   ]
  },
  {
   "cell_type": "code",
   "execution_count": 42,
   "id": "104dbe40",
   "metadata": {},
   "outputs": [
    {
     "name": "stdout",
     "output_type": "stream",
     "text": [
      "witch\n"
     ]
    }
   ],
   "source": [
    "# predict the monster involved with random forest classifier\n",
    "monster_random_forest_predict = random_forest_model.predict(story_df)\n",
    "print(monster_random_forest_predict[0])"
   ]
  },
  {
   "cell_type": "code",
   "execution_count": 43,
   "id": "a67992c1",
   "metadata": {},
   "outputs": [
    {
     "name": "stdout",
     "output_type": "stream",
     "text": [
      "witch\n"
     ]
    }
   ],
   "source": [
    "# predict the monster involved with gradien booster classifier\n",
    "monster_gradient_booster_predict = gradient_booster_model.predict(story_df)\n",
    "print(monster_gradient_booster_predict[0])"
   ]
  }
 ],
 "metadata": {
  "kernelspec": {
   "display_name": ".venv",
   "language": "python",
   "name": "python3"
  },
  "language_info": {
   "codemirror_mode": {
    "name": "ipython",
    "version": 3
   },
   "file_extension": ".py",
   "mimetype": "text/x-python",
   "name": "python",
   "nbconvert_exporter": "python",
   "pygments_lexer": "ipython3",
   "version": "3.12.6"
  }
 },
 "nbformat": 4,
 "nbformat_minor": 5
}
